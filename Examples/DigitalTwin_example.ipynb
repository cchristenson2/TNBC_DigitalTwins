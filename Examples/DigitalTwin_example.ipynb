{
 "cells": [
  {
   "cell_type": "markdown",
   "id": "70b53482-89a0-46c9-b922-bd7c34737415",
   "metadata": {},
   "source": [
    "# Digital Twins for Triple Negative Breast Cancer\n",
    "## Example notebook with in silico data\n",
    "**This notebook goes through the all the steps required for calibrating and using the digital twin**\n",
    "1. **Loading the data**\n",
    "1. **Initializing the digital twin**\n",
    "1. **Calibrating parameters with approximate Bayesian computation**\n",
    "1. **Optiziming quantities of interest based on simulations**\n",
    "\n",
    "**The model is based on the reaction diffusion equation, with parameters representing diffusion, proliferation, drug efficacy, and drug decay:** $$\\dfrac{\\partial N(\\mathbf{x},t)}{\\partial t} = d \\Delta N(\\mathbf{x},t) + k(\\mathbf{x})N(\\mathbf{x},t)(1-N(\\mathbf{x},t))-N(\\mathbf{x},t)\\sum_{j}^{}\\gamma_j(\\mathbf{x},t) \\tag{1}$$\n",
    "$$\\gamma_j(\\mathbf{x},t) = \\alpha C_k(\\mathbf{x})\\sum_{k=1}^{T_j}D_{j,k}H(D_{j,k}-0.1)\\mathrm{e}^{-\\beta_j(t-\\tau_{j,k})H(t-\\tau_{j,k})} \\tag{2}$$\n",
    "\n",
    "\n",
    "\n"
   ]
  },
  {
   "cell_type": "code",
   "execution_count": 2,
   "id": "dcf2a056-1604-4676-8a01-ffac9c42cfe4",
   "metadata": {},
   "outputs": [],
   "source": [
    "import numpy as np\n",
    "import os\n",
    "import pickle\n",
    "import time\n",
    "import sys\n",
    "home = os.path.dirname(os.getcwd())\n",
    "sys.path.append(home)\n",
    "\n",
    "# Calibration can throw LinAlgWarnings depending on value of least-squares normalization\n",
    "# This does not effect the model output\n",
    "import warnings\n",
    "from scipy.linalg import LinAlgWarning\n",
    "warnings.filterwarnings(action = 'ignore', category=LinAlgWarning)\n",
    "# Simulation throws contiguous array errors\n",
    "from numba.core.errors import NumbaPerformanceWarning\n",
    "warnings.simplefilter(action = 'ignore', category = NumbaPerformanceWarning)\n",
    "\n",
    "import DigitalTwin as dtwin"
   ]
  },
  {
   "cell_type": "markdown",
   "id": "5994c520-f595-4f43-b306-f2928fe67e66",
   "metadata": {},
   "source": [
    "**Three example \"patients\" are provided, starting from a randomized intitial condition with randomized proliferation map and alpha value.**\n",
    "\n",
    "**Diffusivity and drug decay are set to the prior mean.**"
   ]
  },
  {
   "cell_type": "code",
   "execution_count": 4,
   "id": "6d6b85e7-65c8-4a50-9ced-a71adfe64851",
   "metadata": {},
   "outputs": [],
   "source": [
    "home = os.path.dirname(os.getcwd())\n",
    "datapath = home + '\\Examples\\ExampleData_1.mat'"
   ]
  },
  {
   "cell_type": "markdown",
   "id": "0f7ba660-c3b9-43e1-9fd8-f887e9d8b248",
   "metadata": {},
   "source": [
    "**Each twin requires arguments on how the input data should be processed:**\n",
    "- **Should data be withheld for predicting?**\n",
    "     - slice\n",
    "- **Should data be downsampled and with what factors?**\n",
    "     - downsample, inplane, inslice\n",
    "- **3D data cropped to 2D?**\n",
    "     - crop2D\n",
    "     \n",
    "<div class=\"alert alert-block alert-warning\">\n",
    "The model also requires operators for the reduced order model to run. These must be included but can be specified as either global (g) or local (l).\n",
    "</div>"
   ]
  },
  {
   "cell_type": "code",
   "execution_count": 6,
   "id": "3cfa00bf-bcff-4583-a2fe-65aa7b40137b",
   "metadata": {
    "tags": []
   },
   "outputs": [],
   "source": [
    "load_args = {'split':2,'downsample':False}\n",
    "\n",
    "#Bounds for parameters controlling operators\n",
    "bounds = {'d':np.array([1e-6, 1e-3]),'k':np.array([1e-6, 0.1]),'alpha':np.array([1e-6, 0.8])}\n",
    "\n",
    "#What operator types are included in the ROM library\n",
    "required_ops = ('A','B','H','T')\n",
    "params_ops = ('d','k','k','alpha')\n",
    "type_ops = ('g','l','l','g') # g = global, l = local\n",
    "zipped = zip(required_ops, params_ops, type_ops)\n",
    "ROM_args = {'bounds': bounds, 'zipped': zipped}"
   ]
  },
  {
   "cell_type": "markdown",
   "id": "7a6aaaeb-3b55-4a61-bb67-cad09012643c",
   "metadata": {},
   "source": [
    "<div class=\"alert alert-block alert-info\">\n",
    "The <b>digital twin</b> can now be initialized.\n",
    "</div>"
   ]
  },
  {
   "cell_type": "code",
   "execution_count": 8,
   "id": "68f7af0b-e192-4c97-b025-e12cf8c01d31",
   "metadata": {
    "tags": []
   },
   "outputs": [],
   "source": [
    "twin = dtwin.DigitalTwin(datapath, load_args = load_args, ROM = True, ROM_args = ROM_args)"
   ]
  },
  {
   "cell_type": "markdown",
   "id": "85d19bc0-26a7-416b-b68f-18216ca02747",
   "metadata": {},
   "source": [
    "**With a prepped digital twin, we would typically want to assimilate all of the data currently available to determine the parameters for the specific \"patient\"**\n",
    "\n",
    "**Parameters are created with a set assignement, and priors are generated based on the specific parameter and type**\n",
    "\n",
    "<div class=\"alert alert-block alert-warning\">\n",
    "Reduced parameters require CoeffBounds that are calculated during the ROM build\n",
    "</div>"
   ]
  },
  {
   "cell_type": "code",
   "execution_count": 10,
   "id": "2e96dea1-4861-44a8-a61f-af61a923c5e7",
   "metadata": {
    "tags": []
   },
   "outputs": [],
   "source": [
    "#What parameter assignment is used for the model\n",
    "# g = global, r = reduced, f = fixed\n",
    "params = {'d':dtwin.Parameter('d','g'),\n",
    "          'k':dtwin.ReducedParameter('k','r',twin.ROM['V']),\n",
    "          'alpha':dtwin.Parameter('alpha','g'),\n",
    "          'beta_a':dtwin.Parameter('beta_a','g'),\n",
    "          'beta_c': dtwin.Parameter('beta_c','g')}\n",
    "    \n",
    "params['d'].setBounds(np.array([1e-6,1e-3]))\n",
    "params['k'].setBounds(np.array([1e-6,0.1]))\n",
    "params['k'].setCoeffBounds(twin.ROM['Library']['B']['coeff_bounds'])\n",
    "params['alpha'].setBounds(np.array([1e-6,0.8]))\n",
    "params['beta_a'].setBounds(np.array([0.35, 0.85]))\n",
    "params['beta_c'].setBounds(np.array([1.0, 5.5]))\n",
    "\n",
    "#Build priors for Bayesian inference\n",
    "twin.setParams(params)\n",
    "twin.getPriors(params)"
   ]
  },
  {
   "cell_type": "markdown",
   "id": "d11f5913-fbad-4466-a855-37b3d559e354",
   "metadata": {},
   "source": [
    "<div class=\"alert alert-block alert-info\">\n",
    "The calibration can now run using pyABC's approximate Bayesian sampler\n",
    "</div>\n",
    "<b>The accepted calibration types for ROM are LM_ROM, MCMC_ROM (not validated), or ABC_ROM</b>"
   ]
  },
  {
   "cell_type": "code",
   "execution_count": null,
   "id": "59ed810a-2767-4e1c-8407-ff714e3b8a91",
   "metadata": {
    "tags": []
   },
   "outputs": [
    {
     "name": "stderr",
     "output_type": "stream",
     "text": [
      "ABC.History INFO: Start <ABCSMC id=134, start_time=2024-07-30 12:59:16>\n",
      "ABC INFO: Calibration sample t = -1.\n"
     ]
    },
    {
     "name": "stdout",
     "output_type": "stream",
     "text": [
      "Algorithm converged on iteration: 88\n",
      "Epsilon = 0.0872966796324145\n"
     ]
    },
    {
     "name": "stderr",
     "output_type": "stream",
     "text": [
      "ABC INFO: t: 0, eps: 2.07889841e+00.\n"
     ]
    }
   ],
   "source": [
    "#Can be slow, does not print a detailed progress status\n",
    "cal_args = {'dt': 0.5, 'options': {'n_pops': 5,'pop_size':500,'epsilon':'calibrated','distance':'MSE','burnin':0.1}}\n",
    "start = time.time()\n",
    "twin.calibrateTwin('ABC_ROM', cal_args)\n",
    "print('ABC calibration time = ' + str(time.time() - start))"
   ]
  },
  {
   "cell_type": "markdown",
   "id": "6d995106-f5b2-430f-816f-c990546dfe64",
   "metadata": {},
   "source": [
    "**After calibration, a prediction is made and the results are visualized**"
   ]
  },
  {
   "cell_type": "code",
   "execution_count": null,
   "id": "257ddb6b-15f1-4aaf-868a-fb649768f199",
   "metadata": {
    "tags": []
   },
   "outputs": [],
   "source": [
    "start = time.time()\n",
    "twin.simulations = twin.predict(dt = 0.5, threshold = 0.25, plot = True, visualize = True, parallel = False)\n",
    "print('Prediction time = ' + str(time.time() - start))"
   ]
  },
  {
   "cell_type": "code",
   "execution_count": null,
   "id": "849e32f5-c925-48c8-b1a8-7d2c510e46a6",
   "metadata": {
    "tags": []
   },
   "outputs": [],
   "source": [
    "twin.paramVisualization()"
   ]
  },
  {
   "cell_type": "markdown",
   "id": "b436faaf-f449-4256-8ed0-6130f2383a0a",
   "metadata": {},
   "source": [
    "**With a calibrated digital twin, we can either:**\n",
    "- **Optimize controls based on a desired quantity of interest**\n",
    "- **Assimilate new data as it becomes available**\n",
    "\n",
    "**The first quantity of interest is the total tumor cellularity. We want to find controls that minimize this using the following optimization problem:**\n",
    "$$\n",
    "\\begin{align*}\n",
    "a) \\quad \\mathbf{R}_{tumor}^{*} &= \\substack{\\text{argmin}\\\\\\mathbf{R}\\in\\mathcal{R}} \\left( \\frac{\\text{mean} \\left( \\int_x N\\left( \\mathbf{R},t_f,\\theta_{ABC} \\right) \\right)}{\\text{mean} \\left( \\int_x N\\left( \\mathbf{R_{soc}},t_f,\\theta_{ABC} \\right) \\right)} + \\frac{\\max\\left(\\text{mean} \\left( \\int_x N\\left( \\mathbf{R},t,\\theta_{ABC} \\right) \\right)\\right)}{\\max\\left(\\text{mean} \\left( \\int_x N\\left( \\mathbf{R_{soc}},t,\\theta_{ABC} \\right) \\right)\\right)} \\right) \\\\\n",
    "w.r.t: \\\\\n",
    "b) \\quad &||\\mathbf{D}_j||_1 \\leq ||\\mathbf{D}_{soc}||_1 \\quad \\forall j \\\\\n",
    "c) \\quad &\\mathcal{C}\\left( \\mathbf{D}_j, \\tau_j, \\beta_j \\right) \\leq \\mathcal{C}\\left(\\mathbf{D}_{soc}, \\tau_{soc}, \\beta_j\\right) \\quad \\forall j \\\\\n",
    "d) \\quad &\\mathcal{T}\\left( \\mathbf{D}_j, \\tau_j, \\beta_j \\right) \\leq \\mathcal{T}\\left(\\mathbf{D}_{soc}, \\tau_{soc}, \\beta_j\\right) \\quad \\forall j \\tag{3}\n",
    "\\end{align*}\n",
    "$$\n",
    "\n",
    "**a) represents the minimization of total cells at a final time points weighted against the maximum cell number**\n",
    "\n",
    "**b), c), d) represent constraints regarding the total dose, maximum concentration, and estimated toxicity**\n",
    "\n",
    "<div class=\"alert alert-block alert-info\">\n",
    "The optimization can be adjusted with various combinations of objective and constraints\n",
    "</div>\n",
    "\n",
    "**Extra problem arguments:**\n",
    "- **true_schedule: should the final time point be based on the drug schedule (false) or imaging data (true)**\n",
    "- **metric: should mean, median, percentile, etc. be used to evaluate quantity of interest from distribution**\n",
    "- **estimated: should the simulator save time during the optimization by estimating total cellularity, rather than direct calculation**\n",
    "    - this removes the ability to look at volumes or change the threshold during optimization\n",
    "- **partial: should the optimizer save time by only estimating the timecourse for the predicted section**\n",
    "- **cycles: should the optimized regimen be split into two indentical cycles (true), or one long one (false)**\n",
    "- **interval: days between allowed deliveries of drug**"
   ]
  },
  {
   "cell_type": "code",
   "execution_count": null,
   "id": "35224752-2faf-43b0-b46e-4c88effde4f4",
   "metadata": {
    "tags": []
   },
   "outputs": [],
   "source": [
    "import Optimize as opt\n",
    "\n",
    "thresh = 0.25\n",
    "problem_args = {'objectives':['final_cells','max_cells'],\n",
    "                    'constraints':['total_dose','max_concentration','ld50_toxicity'],\n",
    "                    'threshold':thresh, 'max_dose':2.0, 'weights':np.array([1,1]),\n",
    "                    'metric':'median','estimated':True,'true_schedule':False,\n",
    "                    'partial':True,'norm':True,'cycles':True,'interval':1}\n",
    "\n",
    "problem = opt.problemSetup_cellMin(twin, **problem_args)\n",
    "start = time.time()\n",
    "output = twin.optimize_cellMin(problem, method = 1, initial_guess = 2)\n",
    "print('Cell minimization time = ' + str(time.time() - start))\n",
    "soc_simulation = twin.predict(threshold = thresh, plot = False, change_t = problem['t_pred_end'])\n",
    "optimal_simulation = twin.predict(treatment = output[1], threshold = thresh, plot = False, change_t = problem['t_pred_end'])\n",
    "\n",
    "dtwin.plotCI_comparison(soc_simulation, optimal_simulation)\n",
    "objs = opt.plotObj_comparison(problem, soc_simulation, optimal_simulation)\n",
    "cons = opt.plotCon_comparison(problem, soc_simulation, optimal_simulation)"
   ]
  },
  {
   "cell_type": "markdown",
   "id": "e32a6ed6-b681-49cd-9d92-bce50e9a9ace",
   "metadata": {},
   "source": [
    "**The second quantity of interest is the total dosage. We want to find controls that minimize this using the following optimization problem, starting from the result of the cell minimization:**\n",
    "$$\n",
    "\\begin{align*}\n",
    "a) \\quad \\mathbf{R}_{dose}^{*} &= \\substack{\\text{argmin}\\\\\\mathbf{R}\\in\\mathcal{R}} \\left( \\frac{\\sum_j||\\mathbf{D}_{j}||_1}{\\sum_j||\\mathbf{D}_{soc}||_1} + \\frac{\\max\\left(\\text{mean} \\left( \\int_x N\\left( \\mathbf{R},t,\\theta_{ABC} \\right) \\right) \\right)}{\\max\\left(\\text{mean} \\left( \\int_x N\\left( \\mathbf{R_{soc}},t,\\theta_{ABC} \\right) \\right) \\right)} \\right) \\\\\n",
    "w.r.t: \\\\\n",
    "b) \\quad &\\text{mean} \\left( \\int_x N\\left( \\mathbf{R_{}},t_f,\\theta_{ABC} \\right) \\right) \\leq \\text{mean} \\left( \\int_x N\\left( \\mathbf{R_{soc}},t_f,\\theta_{ABC} \\right) \\right) \\\\\n",
    "c) \\quad &\\mathcal{C}\\left( \\mathbf{D}_j, \\tau_j, \\beta_j \\right) \\leq \\mathcal{C}\\left(\\mathbf{D}_{soc}, \\tau_{soc}, \\beta_j\\right) \\quad \\forall j \\\\\n",
    "d) \\quad &\\mathcal{T}\\left( \\mathbf{D}_j, \\tau_j, \\beta_j \\right) \\leq \\mathcal{T}\\left(\\mathbf{D}_{soc}, \\tau_{soc}, \\beta_j\\right) \\quad \\forall j \\tag{4}\n",
    "\\end{align*}\n",
    "$$\n",
    "\n",
    "**a) represents the minimization of total dose weighted against the maximum cell number**\n",
    "\n",
    "**b), c), d) represent constraints regarding the total cells at a final time point, maximum concentration, and estimated toxicity**\n"
   ]
  },
  {
   "cell_type": "code",
   "execution_count": null,
   "id": "b9b38652-1eb6-4784-818d-c6568c563c06",
   "metadata": {
    "tags": []
   },
   "outputs": [],
   "source": [
    "problem_args_dosemin = {'objectives':['total_dose','max_cells'],\n",
    "                    'constraints':['final_cells','max_concentration','ld50_toxicity'],\n",
    "                    'threshold':thresh, 'max_dose':2.0, 'weights':np.array([1,1]),\n",
    "                    'metric':'median','estimated':True,'true_schedule':False,\n",
    "                    'partial':True,'norm':True,'cycles':True,'interval':1}\n",
    "\n",
    "problem_dosemin = opt.problemSetup_cellMin(twin, **problem_args_dosemin)\n",
    "problem_dosemin['doses_guess'] = output[4].x\n",
    "start = time.time()\n",
    "output_dosemin = twin.optimize_cellMin(problem_dosemin, method = 1, initial_guess = 3)\n",
    "print('Dose minimization time = ' + str(time.time() - start))\n",
    "optimal_simulation_dosemin = twin.predict(treatment = output_dosemin[1],\n",
    "                                          threshold = thresh, plot = False, change_t = problem_dosemin['t_pred_end'])\n",
    "\n",
    "dtwin.plotCI_comparison(soc_simulation, optimal_simulation_dosemin)\n",
    "objs = opt.plotObj_comparison(problem_dosemin, soc_simulation, optimal_simulation_dosemin)\n",
    "cons = opt.plotCon_comparison(problem_dosemin, soc_simulation, optimal_simulation_dosemin)"
   ]
  },
  {
   "cell_type": "markdown",
   "id": "e5a1fae0-b8d3-43ed-b824-8c86e97dec1f",
   "metadata": {},
   "source": [
    "**After optimization, we can the assimilate the extra data point to use in the digital twin calibration. If more data became available we can predict and optimize for that as well**"
   ]
  },
  {
   "cell_type": "code",
   "execution_count": null,
   "id": "7643b38f-53a5-45c9-9617-0d334dd44f02",
   "metadata": {},
   "outputs": [],
   "source": []
  }
 ],
 "metadata": {
  "kernelspec": {
   "display_name": "Python 3 (ipykernel)",
   "language": "python",
   "name": "python3"
  },
  "language_info": {
   "codemirror_mode": {
    "name": "ipython",
    "version": 3
   },
   "file_extension": ".py",
   "mimetype": "text/x-python",
   "name": "python",
   "nbconvert_exporter": "python",
   "pygments_lexer": "ipython3",
   "version": "3.11.7"
  }
 },
 "nbformat": 4,
 "nbformat_minor": 5
}
