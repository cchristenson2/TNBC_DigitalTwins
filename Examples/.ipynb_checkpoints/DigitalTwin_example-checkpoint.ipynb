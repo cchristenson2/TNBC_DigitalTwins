{
 "cells": [
  {
   "cell_type": "code",
   "execution_count": null,
   "id": "dcf2a056-1604-4676-8a01-ffac9c42cfe4",
   "metadata": {},
   "outputs": [],
   "source": [
    "import numpy as np\n",
    "import os\n",
    "import pickle\n",
    "\n",
    "# Calibration can throw LinAlgWarnings depending on value of least-squares normalization\n",
    "# This does not effect the model output\n",
    "import warnings\n",
    "from scipy.linalg import LinAlgWarning\n",
    "warnings.filterwarnings(action = 'ignore', category=LinAlgWarning)\n",
    "\n",
    "import DigitalTwin as dtwin"
   ]
  },
  {
   "cell_type": "code",
   "execution_count": null,
   "id": "6d6b85e7-65c8-4a50-9ced-a71adfe64851",
   "metadata": {},
   "outputs": [],
   "source": []
  }
 ],
 "metadata": {
  "kernelspec": {
   "display_name": "Python 3 (ipykernel)",
   "language": "python",
   "name": "python3"
  },
  "language_info": {
   "codemirror_mode": {
    "name": "ipython",
    "version": 3
   },
   "file_extension": ".py",
   "mimetype": "text/x-python",
   "name": "python",
   "nbconvert_exporter": "python",
   "pygments_lexer": "ipython3",
   "version": "3.11.7"
  }
 },
 "nbformat": 4,
 "nbformat_minor": 5
}
